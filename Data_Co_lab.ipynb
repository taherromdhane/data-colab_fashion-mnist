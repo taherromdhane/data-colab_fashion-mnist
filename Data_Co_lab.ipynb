{
  "nbformat": 4,
  "nbformat_minor": 0,
  "metadata": {
    "colab": {
      "name": "Data Co-lab.ipynb",
      "provenance": [],
      "collapsed_sections": []
    },
    "kernelspec": {
      "name": "python3",
      "display_name": "Python 3"
    }
  },
  "cells": [
    {
      "cell_type": "code",
      "metadata": {
        "id": "HRT-KBQ-6-rm",
        "colab_type": "code",
        "colab": {}
      },
      "source": [
        "# LOAD THE NECESSSARY LIBRARIES FOR THE PROJECT\n",
        "\n",
        "import numpy as np # linear algebra\n",
        "import pandas as pd # data processing, CSV file I/O (e.g. pd.read_csv)\n",
        "from keras.utils import to_categorical # distribute multiple classes in a binary matrix\n",
        "import matplotlib.pyplot as plt # plot images or graphs\n",
        "%matplotlib inline\n",
        "\n"
      ],
      "execution_count": 0,
      "outputs": []
    },
    {
      "cell_type": "code",
      "metadata": {
        "id": "1nPQIwNQ50cN",
        "colab_type": "code",
        "colab": {}
      },
      "source": [
        "# LOAD THE DATA FROM MNIST ONLINE DATASET\n",
        "\n",
        "from keras.datasets import fashion_mnist # load the proprietary dataset\n",
        "\n",
        "(train_X,train_Y), (test_X,test_Y) = fashion_mnist.load_data() # split the dataset into train/test by default "
      ],
      "execution_count": 0,
      "outputs": []
    },
    {
      "cell_type": "code",
      "metadata": {
        "id": "fA-XlS8s6IAK",
        "colab_type": "code",
        "colab": {
          "base_uri": "https://localhost:8080/",
          "height": 53
        },
        "outputId": "8541b90f-5051-4013-adfd-bb978bb0320f"
      },
      "source": [
        "# HAVE A BETTER INTUITION ABOUT THE DATA IN HAND\n",
        "\n",
        "print('Training data shape : ', train_X.shape, train_Y.shape) #shape of the training data \n",
        "print('Testing data shape : ', test_X.shape, test_Y.shape)  #shape of the test data "
      ],
      "execution_count": 11,
      "outputs": [
        {
          "output_type": "stream",
          "text": [
            "Training data shape :  (60000, 28, 28) (60000,)\n",
            "Testing data shape :  (10000, 28, 28) (10000,)\n"
          ],
          "name": "stdout"
        }
      ]
    },
    {
      "cell_type": "markdown",
      "metadata": {
        "id": "aYoESMdW_x9D",
        "colab_type": "text"
      },
      "source": [
        "*From the above output, you can see that the training data has a shape of 60000 x 28 x 28 since there are 60,000 training samples each of 28 x 28 dimension. Similarly, the test data has a shape of 10000 x 28 x 28 since there are 10,000 testing samples.*"
      ]
    },
    {
      "cell_type": "code",
      "metadata": {
        "id": "hPVQjf4D6ZqV",
        "colab_type": "code",
        "colab": {
          "base_uri": "https://localhost:8080/",
          "height": 53
        },
        "outputId": "3611ed94-f631-4238-ccd7-f22ca0974b28"
      },
      "source": [
        "# HAVE A LOOK AT DIFFRENT POSSIBLE OUTPUTS OF THE LABELED DATASET \n",
        "\n",
        "classes = np.unique(train_Y) # the number of possible labels\n",
        "nClasses = len(classes) # the number of exemples in each possible labes\n",
        "print('Total number of outputs : ', nClasses)\n",
        "print('Output classes : ', classes)"
      ],
      "execution_count": 13,
      "outputs": [
        {
          "output_type": "stream",
          "text": [
            "Total number of outputs :  10\n",
            "Output classes :  [0 1 2 3 4 5 6 7 8 9]\n"
          ],
          "name": "stdout"
        }
      ]
    },
    {
      "cell_type": "code",
      "metadata": {
        "id": "h5Nchq-36oRk",
        "colab_type": "code",
        "colab": {
          "base_uri": "https://localhost:8080/",
          "height": 209
        },
        "outputId": "de879ec0-5a61-433c-a548-9a082e173703"
      },
      "source": [
        "# PLOT THE FIRST IMAGE OF EACH SET :\n",
        "\n",
        "plt.figure(figsize=[5,5])\n",
        "\n",
        "# Display the first image in training data\n",
        "plt.subplot(121)\n",
        "plt.imshow(train_X[0,:,:], cmap='gray')\n",
        "plt.title(\"Ground Truth : {}\".format(train_Y[0]))\n",
        "\n",
        "# Display the first image in testing data\n",
        "plt.subplot(122)\n",
        "plt.imshow(test_X[0,:,:], cmap='gray')\n",
        "plt.title(\"Ground Truth : {}\".format(test_Y[0]))"
      ],
      "execution_count": 17,
      "outputs": [
        {
          "output_type": "execute_result",
          "data": {
            "text/plain": [
              "Text(0.5, 1.0, 'Ground Truth : 9')"
            ]
          },
          "metadata": {
            "tags": []
          },
          "execution_count": 17
        },
        {
          "output_type": "display_data",
          "data": {
            "image/png": "[encoded data removed]",
            "text/plain": [
              "<Figure size 360x360 with 2 Axes>"
            ]
          },
          "metadata": {
            "tags": []
          }
        }
      ]
    },
    {
      "cell_type": "markdown",
      "metadata": {
        "id": "axP6GHVMBY0k",
        "colab_type": "text"
      },
      "source": [
        "#                      - Data Preprocessing\n"
      ]
    },
    {
      "cell_type": "code",
      "metadata": {
        "id": "30Qja50YA8Cl",
        "colab_type": "code",
        "colab": {}
      },
      "source": [
        "# SET A NEW DIMENSIONS FOR THE DATASET \n",
        "img_rows, img_cols = 28, 28 # each image of dataset is a 28 by 28 pixel\n",
        "input_shape = (img_rows, img_cols, 1) # add an extra dimension to contain the label of each given exemple"
      ],
      "execution_count": 0,
      "outputs": []
    },
    {
      "cell_type": "code",
      "metadata": {
        "id": "L3VQdkC7BVdc",
        "colab_type": "code",
        "colab": {}
      },
      "source": [
        "train_X = train_X.reshape(train_X.shape[0], img_rows, img_cols, 1) # reshape the training set into the new matrix format \n",
        "test_X = test_X.reshape(test_X.shape[0], img_rows, img_cols, 1) # reshape the test set into the new matrix format \n",
        "\n",
        "train_X.shape, test_X.shape # print the new train/test shapes"
      ],
      "execution_count": 0,
      "outputs": []
    },
    {
      "cell_type": "code",
      "metadata": {
        "id": "l8M01h6YDByk",
        "colab_type": "code",
        "colab": {}
      },
      "source": [
        "train_X = train_X.astype('float32') # convert the training set into a float32 type \n",
        "test_X = test_X.astype('float32')  # convert the test set into a float32 type \n",
        "\n",
        "# IMAGES ARE CODED ON 8 BITS SO 255 LEVEL OF GRAY , THEREFORE WE APPLY NORMALIZATION TO HAVE SMALL NUMBERS BETWEEN 0 AND 1 \n",
        "\n",
        "train_X /= 255 # normalize the training set \n",
        "test_X /= 255 # normalize the test set \n"
      ],
      "execution_count": 0,
      "outputs": []
    },
    {
      "cell_type": "markdown",
      "metadata": {
        "id": "1JbETY8iF0Hq",
        "colab_type": "text"
      },
      "source": [
        "# - features engineering "
      ]
    },
    {
      "cell_type": "markdown",
      "metadata": {
        "id": "kWCLAzzUGHjW",
        "colab_type": "text"
      },
      "source": [
        "in this section , we will make use of the to_categorical method of keras where we will convert the class labels into a one-hot encoding vector"
      ]
    },
    {
      "cell_type": "code",
      "metadata": {
        "id": "mEIBHJNnGfNV",
        "colab_type": "code",
        "colab": {}
      },
      "source": [
        ""
      ],
      "execution_count": 0,
      "outputs": []
    }
  ]
}